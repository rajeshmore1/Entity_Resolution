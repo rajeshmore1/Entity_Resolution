{
  "nbformat": 4,
  "nbformat_minor": 0,
  "metadata": {
    "colab": {
      "provenance": [],
      "authorship_tag": "ABX9TyPmHVKSmi68Gy78NI4ld/UY",
      "include_colab_link": true
    },
    "kernelspec": {
      "name": "python3",
      "display_name": "Python 3"
    },
    "language_info": {
      "name": "python"
    }
  },
  "cells": [
    {
      "cell_type": "markdown",
      "metadata": {
        "id": "view-in-github",
        "colab_type": "text"
      },
      "source": [
        "<a href=\"https://colab.research.google.com/github/rajeshmore1/Entity_Resolution/blob/main/Entity_Resolution_10Feb.ipynb\" target=\"_parent\"><img src=\"https://colab.research.google.com/assets/colab-badge.svg\" alt=\"Open In Colab\"/></a>"
      ]
    },
    {
      "cell_type": "code",
      "execution_count": null,
      "metadata": {
        "id": "d91hEt3CCniE"
      },
      "outputs": [],
      "source": [
        "import requests\n",
        "from io import BytesIO\n",
        "import pandas as pd\n",
        "import numpy as np\n",
        "\n",
        "pd.options.display.max_colwidth = None\n",
        "url = \"https://raw.githubusercontent.com/tomonori-masui/entity-resolution/main/data/musicbrainz_200k.csv\"\n",
        "res = requests.get(url)\n",
        "df = pd.read_csv(BytesIO(res.content))"
      ]
    },
    {
      "cell_type": "code",
      "source": [
        "df.head()"
      ],
      "metadata": {
        "id": "KpiNRbszCooZ"
      },
      "execution_count": null,
      "outputs": []
    },
    {
      "cell_type": "code",
      "source": [
        "english_cids = df[\n",
        "    df.language.str.lower().str.contains(\"^en|^eg\", na=False)\n",
        "].CID.unique()\n",
        "\n",
        "df = df[df.CID.isin(english_cids)].reset_index(drop=True)"
      ],
      "metadata": {
        "id": "e2FEcNzkCqki"
      },
      "execution_count": null,
      "outputs": []
    },
    {
      "cell_type": "code",
      "source": [
        "df.shape"
      ],
      "metadata": {
        "id": "E6S5UGFoCuAV"
      },
      "execution_count": null,
      "outputs": []
    },
    {
      "cell_type": "code",
      "source": [
        "#cleaning\n",
        "for col in [\"title\", \"artist\", \"album\"]:\n",
        "    df[col] = (\n",
        "        df[col]\n",
        "        .str.lower()\n",
        "        .replace(\"[^a-z0-9]\", \" \", regex=True)  # replacing special characters with a space\n",
        "        .replace(\" +\", \" \", regex=True)         # removing consecutive spaces\n",
        "        .str.strip()                            # removing leading and tailing spaces\n",
        "    )\n",
        "\n",
        "df.loc[df.number.notna(), \"number\"] = (\n",
        "    df[df.number.notna()]\n",
        "    .number.replace(\"[^0-9]\", \"\", regex=True)              # removing non-digits\n",
        "    .apply(lambda x: str(int(x)) if len(x) > 0 else None)  # removing leading zeros\n",
        ")"
      ],
      "metadata": {
        "id": "4jUAbqbqC7AY"
      },
      "execution_count": null,
      "outputs": []
    },
    {
      "cell_type": "code",
      "source": [
        "df.head()"
      ],
      "metadata": {
        "colab": {
          "base_uri": "https://localhost:8080/"
        },
        "id": "vpQYbYmoEeMy",
        "outputId": "87cb43a2-3b12-4c3f-8b01-14885b545b3b"
      },
      "execution_count": 75,
      "outputs": [
        {
          "output_type": "execute_result",
          "data": {
            "text/plain": [
              "Row(TID=4, CID=2, CTID=1, SourceID=3, id='unk.', number='17', title='mustard gas there and back again lane', length='2.15', artist='action painting', album='NaN', year=\"'95\", language='English')"
            ]
          },
          "metadata": {},
          "execution_count": 75
        }
      ]
    },
    {
      "cell_type": "code",
      "source": [
        "df.info()"
      ],
      "metadata": {
        "id": "YotmDB5fEgUH"
      },
      "execution_count": null,
      "outputs": []
    },
    {
      "cell_type": "markdown",
      "source": [
        "#featurization and blocking\n",
        "\n",
        "In the context of ER, featurization means transforming existing columns into derived features that can inform whether disparate records refer to the same thing. Blocking means selecting a targeted subset of features to use as self join keys to efficiently create potential match candidate pairs. The reason these two steps are grouped in our discussion is blocking keys are often derived from features.\n",
        "\n",
        "Good featurization enables efficient blocking and also good match accuracy downstream, therefore it is a critical piece of the ER process. It is also the least defined step, where a lot of creativity can be injected into the process."
      ],
      "metadata": {
        "id": "BegzuFVdDRLA"
      }
    },
    {
      "cell_type": "code",
      "source": [
        "pip install pyspark"
      ],
      "metadata": {
        "colab": {
          "base_uri": "https://localhost:8080/"
        },
        "id": "jtPYapKSEFNr",
        "outputId": "68a45163-61a4-4836-e3e6-1b29456f121a"
      },
      "execution_count": 49,
      "outputs": [
        {
          "output_type": "stream",
          "name": "stdout",
          "text": [
            "Requirement already satisfied: pyspark in /usr/local/lib/python3.10/dist-packages (3.5.0)\n",
            "Requirement already satisfied: py4j==0.10.9.7 in /usr/local/lib/python3.10/dist-packages (from pyspark) (0.10.9.7)\n"
          ]
        }
      ]
    },
    {
      "cell_type": "code",
      "source": [
        "import pyspark\n",
        "from pyspark.sql import SparkSession\n"
      ],
      "metadata": {
        "id": "m1-eeV-AH7Cl"
      },
      "execution_count": 73,
      "outputs": []
    },
    {
      "cell_type": "code",
      "source": [
        "#spark = SparkSession.builder.appName(\"entity_resolution\").config(\"spark.jars.packages\", \"graphframes:graphframes:0.6\").getOrCreate()\n",
        "spark = SparkSession.builder.master(\"local[*]\").config(\"spark.jars.packages\", \"graphframes:graphframes:0.7.0-spark2.4-s_2.11\").getOrCreate()\n",
        "\n",
        "df = spark.createDataFrame(df)"
      ],
      "metadata": {
        "colab": {
          "base_uri": "https://localhost:8080/",
          "height": 367
        },
        "id": "B2XG4GbQH4R4",
        "outputId": "cc9eda2f-8c56-4c29-b1d0-3e7e62cb71a5"
      },
      "execution_count": 74,
      "outputs": [
        {
          "output_type": "error",
          "ename": "PySparkTypeError",
          "evalue": "[SHOULD_NOT_DATAFRAME] Argument `data` should not be a DataFrame.",
          "traceback": [
            "\u001b[0;31m---------------------------------------------------------------------------\u001b[0m",
            "\u001b[0;31mPySparkTypeError\u001b[0m                          Traceback (most recent call last)",
            "\u001b[0;32m<ipython-input-74-e92e2346eb64>\u001b[0m in \u001b[0;36m<cell line: 4>\u001b[0;34m()\u001b[0m\n\u001b[1;32m      2\u001b[0m \u001b[0mspark\u001b[0m \u001b[0;34m=\u001b[0m \u001b[0mSparkSession\u001b[0m\u001b[0;34m.\u001b[0m\u001b[0mbuilder\u001b[0m\u001b[0;34m.\u001b[0m\u001b[0mmaster\u001b[0m\u001b[0;34m(\u001b[0m\u001b[0;34m\"local[*]\"\u001b[0m\u001b[0;34m)\u001b[0m\u001b[0;34m.\u001b[0m\u001b[0mconfig\u001b[0m\u001b[0;34m(\u001b[0m\u001b[0;34m\"spark.jars.packages\"\u001b[0m\u001b[0;34m,\u001b[0m \u001b[0;34m\"graphframes:graphframes:0.7.0-spark2.4-s_2.11\"\u001b[0m\u001b[0;34m)\u001b[0m\u001b[0;34m.\u001b[0m\u001b[0mgetOrCreate\u001b[0m\u001b[0;34m(\u001b[0m\u001b[0;34m)\u001b[0m\u001b[0;34m\u001b[0m\u001b[0;34m\u001b[0m\u001b[0m\n\u001b[1;32m      3\u001b[0m \u001b[0;34m\u001b[0m\u001b[0m\n\u001b[0;32m----> 4\u001b[0;31m \u001b[0mdf\u001b[0m \u001b[0;34m=\u001b[0m \u001b[0mspark\u001b[0m\u001b[0;34m.\u001b[0m\u001b[0mcreateDataFrame\u001b[0m\u001b[0;34m(\u001b[0m\u001b[0mdf\u001b[0m\u001b[0;34m)\u001b[0m\u001b[0;34m\u001b[0m\u001b[0;34m\u001b[0m\u001b[0m\n\u001b[0m",
            "\u001b[0;32m/usr/local/lib/python3.10/dist-packages/pyspark/sql/session.py\u001b[0m in \u001b[0;36mcreateDataFrame\u001b[0;34m(self, data, schema, samplingRatio, verifySchema)\u001b[0m\n\u001b[1;32m   1383\u001b[0m         \u001b[0mself\u001b[0m\u001b[0;34m.\u001b[0m\u001b[0m_jvm\u001b[0m\u001b[0;34m.\u001b[0m\u001b[0mSparkSession\u001b[0m\u001b[0;34m.\u001b[0m\u001b[0msetActiveSession\u001b[0m\u001b[0;34m(\u001b[0m\u001b[0mself\u001b[0m\u001b[0;34m.\u001b[0m\u001b[0m_jsparkSession\u001b[0m\u001b[0;34m)\u001b[0m\u001b[0;34m\u001b[0m\u001b[0;34m\u001b[0m\u001b[0m\n\u001b[1;32m   1384\u001b[0m         \u001b[0;32mif\u001b[0m \u001b[0misinstance\u001b[0m\u001b[0;34m(\u001b[0m\u001b[0mdata\u001b[0m\u001b[0;34m,\u001b[0m \u001b[0mDataFrame\u001b[0m\u001b[0;34m)\u001b[0m\u001b[0;34m:\u001b[0m\u001b[0;34m\u001b[0m\u001b[0;34m\u001b[0m\u001b[0m\n\u001b[0;32m-> 1385\u001b[0;31m             raise PySparkTypeError(\n\u001b[0m\u001b[1;32m   1386\u001b[0m                 \u001b[0merror_class\u001b[0m\u001b[0;34m=\u001b[0m\u001b[0;34m\"SHOULD_NOT_DATAFRAME\"\u001b[0m\u001b[0;34m,\u001b[0m\u001b[0;34m\u001b[0m\u001b[0;34m\u001b[0m\u001b[0m\n\u001b[1;32m   1387\u001b[0m                 \u001b[0mmessage_parameters\u001b[0m\u001b[0;34m=\u001b[0m\u001b[0;34m{\u001b[0m\u001b[0;34m\"arg_name\"\u001b[0m\u001b[0;34m:\u001b[0m \u001b[0;34m\"data\"\u001b[0m\u001b[0;34m}\u001b[0m\u001b[0;34m,\u001b[0m\u001b[0;34m\u001b[0m\u001b[0;34m\u001b[0m\u001b[0m\n",
            "\u001b[0;31mPySparkTypeError\u001b[0m: [SHOULD_NOT_DATAFRAME] Argument `data` should not be a DataFrame."
          ]
        }
      ]
    },
    {
      "cell_type": "code",
      "source": [
        "from pyspark.sql import functions as f\n",
        "from pyspark.sql import types as t\n",
        "from pyspark.sql import Window as w\n",
        "\n",
        "from pyspark.ml.linalg import DenseVector, SparseVector\n",
        "from pyspark.ml.feature import HashingTF, IDF, Tokenizer, RegexTokenizer, CountVectorizer, StopWordsRemover, NGram, Normalizer, VectorAssembler, Word2Vec, Word2VecModel, PCA\n",
        "from pyspark.ml import Pipeline, Transformer\n",
        "from pyspark.ml.linalg import VectorUDT, Vectors\n",
        "import tensorflow_hub as hub\n",
        "from pyspark.sql.functions import udf\n",
        "\n",
        "def tokenize(df, string_cols):\n",
        "  output = df\n",
        "  for c in string_cols:\n",
        "    output = output.withColumn('temp', f.coalesce(f.col(c), f.lit('')))\n",
        "    tokenizer = RegexTokenizer(inputCol='temp', outputCol=c+\"_tokens\", pattern = \"\\\\W\")\n",
        "    remover = StopWordsRemover(inputCol=c+\"_tokens\", outputCol=c+\"_swRemoved\")\n",
        "    output = tokenizer.transform(output)\n",
        "    output = remover.transform(output)\\\n",
        "      .drop('temp', c+\"_tokens\")\n",
        "\n",
        "  return output\n",
        "\n",
        "def top_kw_from_tfidf(vocab, n=3):\n",
        "  @udf(returnType=t.ArrayType(t.StringType()))\n",
        "  def _(arr):\n",
        "    inds = arr.indices\n",
        "    vals = arr.values\n",
        "    top_inds = vals.argsort()[-n:][::-1]\n",
        "    top_keys = inds[top_inds]\n",
        "    output = []\n",
        "\n",
        "    for k in top_keys:\n",
        "      kw = vocab.value[k]\n",
        "      output.append(kw)\n",
        "\n",
        "    return output\n",
        "  return _\n",
        "\n",
        "def tfidf_top_tokens(df, token_cols, min_freq=1):\n",
        "  output = df\n",
        "  for c in token_cols:\n",
        "    pre = c\n",
        "    cv = CountVectorizer(inputCol=pre, outputCol=pre+'_rawFeatures', minDF=min_freq)\n",
        "    idf = IDF(inputCol=pre+\"_rawFeatures\", outputCol=pre+\"_features\", minDocFreq=min_freq)\n",
        "    normalizer = Normalizer(p=2.0, inputCol=pre+\"_features\", outputCol=pre+'_tfidf')\n",
        "    stages = [cv, idf, normalizer]\n",
        "    pipeline = Pipeline(stages=stages)\n",
        "    model = pipeline.fit(output)\n",
        "    output = model.transform(output)\\\n",
        "      .drop(pre+'_rawFeatures', pre+'_features')\n",
        "\n",
        "    cvModel = model.stages[0]\n",
        "    vocab = spark.sparkContext.broadcast(cvModel.vocabulary)\n",
        "    output = output.withColumn(pre+'_top_tokens', top_kw_from_tfidf(vocab, n=5)(f.col(pre+\"_tfidf\")))\n",
        "\n",
        "  return output\n",
        "\n",
        "\n",
        "# magic function to load model only once per executor\n",
        "MODEL = None\n",
        "def get_model_magic():\n",
        "  global MODEL\n",
        "  if MODEL is None:\n",
        "      MODEL = hub.load(\"https://tfhub.dev/google/universal-sentence-encoder/4\")\n",
        "  return MODEL\n",
        "\n",
        "@udf(returnType=VectorUDT())\n",
        "def encode_sentence(x):\n",
        "  model = get_model_magic()\n",
        "  emb = model([x]).numpy()[0]\n",
        "  return Vectors.dense(emb)\n",
        "\n",
        "blocking_df = tokenize(df, ['title',\t'artist','album'])\n",
        "blocking_df = tfidf_top_tokens(blocking_df, [c+'_swRemoved' for c in ['title',\t'artist','album']])\n",
        "blocking_df = blocking_df.withColumn('title_encoding', encode_sentence(f.coalesce(f.col('title'), f.lit(''))))\\\n",
        "  .withColumn('artist_encoding', encode_sentence(f.coalesce(f.col('artist'), f.lit(''))))\\\n",
        "  .withColumn('blocking_keys',\n",
        "                f.array_union(f.col('title_swRemoved_top_tokens'), f.array_union(f.col('artist_swRemoved_top_tokens'), f.col('album_swRemoved_top_tokens')))\n",
        "             )\\\n",
        "  .withColumn('uid', f.concat_ws('|', 'id', 'SourceID'))"
      ],
      "metadata": {
        "id": "GrHzrlljC_KN"
      },
      "execution_count": 52,
      "outputs": []
    },
    {
      "cell_type": "code",
      "source": [
        "# magic function to load model only once per executor\n",
        "MODEL = None\n",
        "def get_model_magic():\n",
        "  global MODEL\n",
        "  if MODEL is None:\n",
        "      MODEL = hub.load(\"https://tfhub.dev/google/universal-sentence-encoder/4\")\n",
        "  return MODEL\n",
        "@udf(returnType=VectorUDT())\n",
        "def encode_sentence(x):\n",
        "  model = get_model_magic()\n",
        "  emb = model([x]).numpy()[0]\n",
        "  return Vectors.dense(emb)"
      ],
      "metadata": {
        "id": "XXp272YYG994"
      },
      "execution_count": 53,
      "outputs": []
    },
    {
      "cell_type": "markdown",
      "source": [
        "# candidate pair generation and match scoring"
      ],
      "metadata": {
        "id": "YUp6LDsRKpYm"
      }
    },
    {
      "cell_type": "code",
      "source": [
        "!pip install graphframes\n"
      ],
      "metadata": {
        "colab": {
          "base_uri": "https://localhost:8080/"
        },
        "id": "xxU15Ta2LAut",
        "outputId": "4630e2e7-5855-44da-ca42-36e0c590937a"
      },
      "execution_count": 54,
      "outputs": [
        {
          "output_type": "stream",
          "name": "stdout",
          "text": [
            "Requirement already satisfied: graphframes in /usr/local/lib/python3.10/dist-packages (0.6)\n",
            "Requirement already satisfied: numpy in /usr/local/lib/python3.10/dist-packages (from graphframes) (1.23.5)\n",
            "Requirement already satisfied: nose in /usr/local/lib/python3.10/dist-packages (from graphframes) (1.3.7)\n"
          ]
        }
      ]
    },
    {
      "cell_type": "code",
      "source": [
        "import graphframes"
      ],
      "metadata": {
        "id": "rBHgQ-jsO0VK"
      },
      "execution_count": 55,
      "outputs": []
    },
    {
      "cell_type": "code",
      "source": [],
      "metadata": {
        "id": "dbrNuGo5Orfc"
      },
      "execution_count": 55,
      "outputs": []
    },
    {
      "cell_type": "code",
      "source": [
        "blocking_df.show()"
      ],
      "metadata": {
        "colab": {
          "base_uri": "https://localhost:8080/"
        },
        "id": "1VmO4i5bLLNp",
        "outputId": "a74c0314-b34d-4b66-96ce-1997a2a23efd"
      },
      "execution_count": 56,
      "outputs": [
        {
          "output_type": "stream",
          "name": "stdout",
          "text": [
            "+---+-----+----+--------+---------------+------+--------------------+--------+--------------------+--------------------+----+--------+--------------------+--------------------+--------------------+---------------------+--------------------------+----------------------+---------------------------+---------------------+--------------------------+--------------------+--------------------+--------------------+-----------------+\n",
            "|TID|  CID|CTID|SourceID|             id|number|               title|  length|              artist|               album|year|language|     title_swRemoved|    artist_swRemoved|     album_swRemoved|title_swRemoved_tfidf|title_swRemoved_top_tokens|artist_swRemoved_tfidf|artist_swRemoved_top_tokens|album_swRemoved_tfidf|album_swRemoved_top_tokens|      title_encoding|     artist_encoding|       blocking_keys|              uid|\n",
            "+---+-----+----+--------+---------------+------+--------------------+--------+--------------------+--------------------+----+--------+--------------------+--------------------+--------------------+---------------------+--------------------------+----------------------+---------------------------+---------------------+--------------------------+--------------------+--------------------+--------------------+-----------------+\n",
            "|  4|    2|   1|       3|           unk.|    17|mustard gas there...|    2.15|     action painting|                 NaN| '95| English|[mustard, gas, ba...|  [action, painting]|               [nan]| (52966,[58,1338,1...|      [mustard, gas, la...|  (33238,[3194,2710...|         [painting, action]|    (31172,[0],[1.0])|                     [nan]|[0.02657520025968...|[-0.0229798201471...|[mustard, gas, la...|           unk.|3|\n",
            "|  6|    3|   1|       5|        4489993|    10|          your grace|  166000|      kathy troccoli|             comfort|2005| English|             [grace]|   [kathy, troccoli]|           [comfort]|  (52966,[732],[1.0])|                   [grace]|  (33238,[1886,7178...|          [troccoli, kathy]| (31172,[2201],[1.0])|                 [comfort]|[-0.0670188143849...|[-0.0373948439955...|[grace, troccoli,...|        4489993|5|\n",
            "|  7|    4|   1|       3|   4495491MB-01|     2|well you needn t ...|   5.354|ernie stadler jaz...|                 NaN| '10|  Eglish|[well, needn, first]|[ernie, stadler, ...|               [nan]| (52966,[198,471,6...|      [needn, well, first]|  (33238,[103,316,1...|       [stadler, ernie, ...|    (31172,[0],[1.0])|                     [nan]|[-0.0253545455634...|[0.00328252837061...|[needn, well, fir...|   4495491MB-01|3|\n",
            "|  9|81992|   2|       4|    146249-A066|     3|         003i mready|2m 41sec|     john lee hooker| the collection 2006| NaN|    Eng.|      [003i, mready]| [john, lee, hooker]|  [collection, 2006]| (52966,[22746,326...|            [mready, 003i]|  (33238,[2,18,381]...|        [hooker, lee, john]| (31172,[9,12],[0....|        [2006, collection]|[0.05810257419943...|[-0.0084748230874...|[mready, 003i, ho...|    146249-A066|4|\n",
            "| 10|    5|   1|       4|    160109-A070|     6|    006 try acoustic| unknown|          neil young|2008 02 15 le gra...| NaN|    Eng.|[006, try, acoustic]|       [neil, young]|[2008, 02, 15, le...| (52966,[16,352,79...|      [try, acoustic, 006]|  (33238,[57,100],[...|              [neil, young]| (31172,[1,17,140,...|      [rex, france, gra...|[-0.0377143025398...|[0.00348395551554...|[try, acoustic, 0...|    160109-A070|4|\n",
            "| 11|85565|   3|       3|  40248321MB-01|    55|macabre discovery...|     0.8|        sylvain luux|                 NaN| NaN|Engl ish|[macabre, discove...|     [sylvain, luux]|               [nan]| (52966,[610,3459,...|      [macabre, distort...|  (33238,[2299,3098...|            [luux, sylvain]|    (31172,[0],[1.0])|                     [nan]|[0.03308545425534...|[0.01604699529707...|[macabre, distort...|  40248321MB-01|3|\n",
            "| 12|30812|   2|       2|MBox17107012-HH|     3|                 NaN|     159|                 NaN|how cool is that ...| NaN| English|               [nan]|               [nan]|[cool, christmas,...|  (52966,[115],[1.0])|                     [nan]|     (33238,[0],[1.0])|                      [nan]| (31172,[46,354,90...|      [rachael, ray, co...|[0.02401738986372...|[0.02401738986372...|[nan, rachael, ra...|MBox17107012-HH|2|\n",
            "| 14|    7|   1|       3|  47793212MB-01|     9|just like tom thu...|     7.7|    wendy saddingotn|                 NaN| '07| English|[like, tom, thumb...| [wendy, saddingotn]|               [nan]| (52966,[3,11,15,5...|      [blues, thumb, wo...|  (33238,[1196,2626...|        [saddingotn, wendy]|    (31172,[0],[1.0])|                     [nan]|[0.06535566598176...|[-0.0219345018267...|[blues, thumb, wo...|  47793212MB-01|3|\n",
            "| 15|75999|   2|       3|   2914718MB-01|     1|silent night jame...|   4.161|        james galway|                 NaN| '86| English|[silent, night, j...|     [james, galway]|               [nan]| (52966,[30,72,265...|      [galway, carol, s...|  (33238,[11,7318],...|            [galway, james]|    (31172,[0],[1.0])|                     [nan]|[0.02765228599309...|[-0.0119481999427...|[galway, carol, s...|   2914718MB-01|3|\n",
            "| 16|    8|   1|       4|    126583-A062|    23|023 el vaquero ch...| 2m 9sec|byron brizuela en...|      mexico unknown| NaN|    Eng.|[023, el, vaquero...|[byron, brizuela,...|   [mexico, unknown]| (52966,[491,628,7...|      [chido, vaquero, ...|  (33238,[2106,2570...|       [brizuela, carbaj...| (31172,[1,2615],[...|         [mexico, unknown]|[0.05188263952732...|[-0.0505426526069...|[chido, vaquero, ...|    126583-A062|4|\n",
            "| 17|    9|   1|       5|       12961428|     2|       particle wave|  381000|            lunchbox|             evolver|2002| English|    [particle, wave]|          [lunchbox]|           [evolver]| (52966,[677,6626]...|          [particle, wave]|  (33238,[7739],[1.0])|                 [lunchbox]| (31172,[10969],[1...|                 [evolver]|[0.01632212847471...|[-0.0149840600788...|[particle, wave, ...|       12961428|5|\n",
            "| 19|   10|   1|       3|   1588093MB-01|     1|        deja vu nice|   3.612|             blanket|                 NaN| '00| English|    [deja, vu, nice]|           [blanket]|               [nan]| (52966,[656,3168,...|          [deja, vu, nice]|  (33238,[6218],[1.0])|                  [blanket]|    (31172,[0],[1.0])|                     [nan]|[0.07931265234947...|[-0.0290568266063...|[deja, vu, nice, ...|   1588093MB-01|3|\n",
            "| 23| 4421|   2|       5|        7237712|     7|            bubbaloo|  286893|     glengarry bhoys|              rhoots|2003| English|          [bubbaloo]|  [glengarry, bhoys]|            [rhoots]| (52966,[17381],[1...|                [bubbaloo]|  (33238,[13283,135...|         [glengarry, bhoys]| (31172,[10927],[1...|                  [rhoots]|[0.03405719250440...|[0.03988662362098...|[bubbaloo, glenga...|        7237712|5|\n",
            "| 24|   13|   1|       1|    WoM24638942|    16|gimme dat remix r...|   04:23|             rye rye|         ryeot powrr|2011|     NaN|[gimme, dat, remi...|          [rye, rye]|      [ryeot, powrr]| (52966,[5,1698,30...|      [ryeot, powrr, da...|  (33238,[17957],[1...|                      [rye]| (31172,[15809,263...|            [ryeot, powrr]|[0.01951571740210...|[0.06839617341756...|[ryeot, powrr, da...|    WoM24638942|1|\n",
            "| 25|77050|   2|       2|MBox30561822-HH|     6|chris rea somewhe...|     399|                 NaN| santo spirito blues|  11| English|[chris, rea, some...|               [nan]|[santo, spirito, ...| (52966,[286,526,1...|      [rea, somewhere, ...|     (33238,[0],[1.0])|                      [nan]| (31172,[27,5028,9...|      [spirito, santo, ...|[-0.0331427305936...|[0.02401738986372...|[rea, somewhere, ...|MBox30561822-HH|2|\n",
            "| 26|   14|   1|       5|         547993|    21|amneris intro eve...|  219546| gerard alessandrini|forbidden broadwa...|2001| English|[amneris, intro, ...|[gerard, alessand...|[forbidden, broad...| (52966,[0,36,177,...|      [story, headley, ...|  (33238,[2128,3886...|       [alessandrini, ge...| (31172,[28,51,215...|      [broadway, spoof,...|[-0.0365476384758...|[0.05103375390172...|[story, headley, ...|         547993|5|\n",
            "| 30|48502|   4|       2|MBox12885814-HH|     2|   flunk blue monday|     255|                 NaN|for sleepyheads only|  02| English|[flunk, blue, mon...|               [nan]|       [sleepyheads]| (52966,[61,1429,2...|      [flunk, monday, b...|     (33238,[0],[1.0])|                      [nan]| (31172,[9248],[1.0])|             [sleepyheads]|[-0.0163769237697...|[0.02401738986372...|[flunk, monday, b...|MBox12885814-HH|2|\n",
            "| 31|11841|   2|       4|    146325-A061|    12|012 precious lord...| 3m24sec|     aretha franklin|suddeutsche zeitu...| NaN|    Eng.|[012, precious, l...|  [aretha, franklin]|[suddeutsche, zei...| (52966,[19,34,46,...|      [precious, lord, ...|  (33238,[583,929],...|         [aretha, franklin]| (31172,[15,20,110...|      [suddeutsche, zei...|[0.04746994376182...|[0.00403845869004...|[precious, lord, ...|    146325-A061|4|\n",
            "| 34|11317|   5|       4|    223393-A060|    14|014 berlin bei ta...|3m 36sec|         chris prinz|club sounds volum...| NaN|    Eng.|[014, berlin, bei...|      [chris, prinz]|[club, sounds, vo...| (52966,[92,810,98...|      [tag, nacht, bei,...|  (33238,[28,3397],...|             [prinz, chris]| (31172,[1,2,71,13...|      [64, sounds, club...|[2.32363949180580...|[-0.0437308587133...|[tag, nacht, bei,...|    223393-A060|4|\n",
            "| 36|26557|   2|       2| MBox1859256-HH|     1|the pentangle cuc...|     178|                 NaN|live at the bbc o...|  95| English|[pentangle, cucko...|               [nan]|    [live, bbc, air]| (52966,[35,6173,2...|      [pentangle, cucko...|     (33238,[0],[1.0])|                      [nan]| (31172,[7,206,535...|          [air, bbc, live]|[0.04357383400201...|[0.02401738986372...|[pentangle, cucko...| MBox1859256-HH|2|\n",
            "+---+-----+----+--------+---------------+------+--------------------+--------+--------------------+--------------------+----+--------+--------------------+--------------------+--------------------+---------------------+--------------------------+----------------------+---------------------------+---------------------+--------------------------+--------------------+--------------------+--------------------+-----------------+\n",
            "only showing top 20 rows\n",
            "\n"
          ]
        }
      ]
    },
    {
      "cell_type": "code",
      "source": [
        "from pyspark.sql import functions as f\n",
        "from pyspark.sql import types as t\n",
        "from pyspark.sql import Window as w\n",
        "import numpy as np\n",
        "from graphframes import GraphFrame\n",
        "\"\"\"\n",
        "keep_cols = ['source', 'name', 'description', 'manufacturer', 'price',\n",
        "              'name_swRemoved', 'description_swRemoved', 'manufacturer_swRemoved',\n",
        "             'name_swRemoved_tfidf', 'description_swRemoved_tfidf', 'manufacturer_swRemoved_tfidf',\n",
        "             'name_encoding', 'description_encoding']\n",
        "\"\"\"\n",
        "keep_cols = [ 'title', 'length', 'artist', 'album',\n",
        "                'year', 'language', 'title_swRemoved', 'artist_swRemoved', 'album_swRemoved',\n",
        "                'title_swRemoved_tfidf', 'artist_swRemoved_tfidf',\n",
        "                'album_swRemoved_tfidf',\n",
        "                'title_encoding', 'artist_encoding', 'blocking_keys']\n",
        "\n",
        "\n",
        "LARGEST_BLOCK = 100\n",
        "\n",
        "node = blocking_df.select(f.col('uid').alias('id'), *keep_cols)\n",
        "keep_pairs = blocking_df.select(f.explode('blocking_keys').alias('blocking_key'), 'uid')\\\n",
        "  .groupBy('blocking_key')\\\n",
        "  .agg(\n",
        "    f.count('uid').alias('block_size'),\n",
        "    f.collect_set('uid').alias('uid'),\n",
        "  )\\\n",
        "  .filter(f.col('block_size').between(2,LARGEST_BLOCK))\\\n",
        "  .select('blocking_key', f.explode('uid').alias('uid'))\n",
        "\n",
        "left = keep_pairs.withColumnRenamed('uid', 'src')\n",
        "right = keep_pairs.withColumnRenamed('uid', 'dst')\n",
        "\n",
        "candidate_pairs = left.join(right, ['blocking_key'], 'inner')\\\n",
        "  .filter(f.col('src') < f.col('dst'))\\\n",
        "  .select('src', 'dst')\\\n",
        "  .distinct()\n",
        "\n",
        "#g = GraphFrame(node, candidate_pairs)"
      ],
      "metadata": {
        "id": "oplBG4y4Ke4u"
      },
      "execution_count": 57,
      "outputs": []
    },
    {
      "cell_type": "code",
      "source": [
        "candidate_pairs.show()"
      ],
      "metadata": {
        "colab": {
          "base_uri": "https://localhost:8080/"
        },
        "id": "yBAmjjbzQzRZ",
        "outputId": "85b2ff79-ff12-4ef4-ed42-83aabbf9d194"
      },
      "execution_count": 61,
      "outputs": [
        {
          "output_type": "stream",
          "name": "stdout",
          "text": [
            "+-----------------+-----------------+\n",
            "|              src|              dst|\n",
            "+-----------------+-----------------+\n",
            "|MBox41116018-HH|2|    WoM22988127|1|\n",
            "|    160610-A054|4|    214856-A019|4|\n",
            "|       11494061|5|MBox17282825-HH|2|\n",
            "|    214856-A019|4|     68205-A038|4|\n",
            "|    193216-A060|4|     WoM2241521|1|\n",
            "|    184432-A055|4|    225414-A013|4|\n",
            "|    184432-A055|4|    233739-A019|4|\n",
            "|       11121229|5|   7866219MB-01|3|\n",
            "|    233739-A019|4|     88409-A015|4|\n",
            "|     38282-A066|4|    WoM20957349|1|\n",
            "|     28669-A064|4|     WoM2241521|1|\n",
            "|    222772-A011|4|    WoM32698435|1|\n",
            "|    126902-A015|4|    WoM32698435|1|\n",
            "|     214267-A02|4|MBox28752110-HH|2|\n",
            "|    118021-A055|4|     25482-A049|4|\n",
            "|    197493-A049|4|    WoM32698435|1|\n",
            "|    197493-A049|4|     25526-A031|4|\n",
            "|    204596-A028|4|    213216-A015|4|\n",
            "|    204596-A028|4|    221072-A012|4|\n",
            "|    178212-A021|4|    180258-A048|4|\n",
            "+-----------------+-----------------+\n",
            "only showing top 20 rows\n",
            "\n"
          ]
        }
      ]
    },
    {
      "cell_type": "code",
      "source": [
        "from graphframes import *"
      ],
      "metadata": {
        "id": "l1iz2P_7VNOU"
      },
      "execution_count": 65,
      "outputs": []
    },
    {
      "cell_type": "code",
      "source": [
        "node.show()"
      ],
      "metadata": {
        "colab": {
          "base_uri": "https://localhost:8080/"
        },
        "id": "YMjk-1XxVfOe",
        "outputId": "48064c1d-0a09-47b5-c591-1ddca449f3f6"
      },
      "execution_count": 67,
      "outputs": [
        {
          "output_type": "stream",
          "name": "stdout",
          "text": [
            "+-----------------+--------------------+--------+--------------------+--------------------+----+--------+--------------------+--------------------+--------------------+---------------------+----------------------+---------------------+--------------------+--------------------+--------------------+\n",
            "|               id|               title|  length|              artist|               album|year|language|     title_swRemoved|    artist_swRemoved|     album_swRemoved|title_swRemoved_tfidf|artist_swRemoved_tfidf|album_swRemoved_tfidf|      title_encoding|     artist_encoding|       blocking_keys|\n",
            "+-----------------+--------------------+--------+--------------------+--------------------+----+--------+--------------------+--------------------+--------------------+---------------------+----------------------+---------------------+--------------------+--------------------+--------------------+\n",
            "|           unk.|3|mustard gas there...|    2.15|     action painting|                 NaN| '95| English|[mustard, gas, ba...|  [action, painting]|               [nan]| (52966,[58,1338,1...|  (33238,[3194,2710...|    (31172,[0],[1.0])|[0.02657520025968...|[-0.0229798201471...|[mustard, gas, la...|\n",
            "|        4489993|5|          your grace|  166000|      kathy troccoli|             comfort|2005| English|             [grace]|   [kathy, troccoli]|           [comfort]|  (52966,[732],[1.0])|  (33238,[1886,7178...| (31172,[2201],[1.0])|[-0.0670188143849...|[-0.0373948439955...|[grace, troccoli,...|\n",
            "|   4495491MB-01|3|well you needn t ...|   5.354|ernie stadler jaz...|                 NaN| '10|  Eglish|[well, needn, first]|[ernie, stadler, ...|               [nan]| (52966,[198,471,6...|  (33238,[103,316,1...|    (31172,[0],[1.0])|[-0.0253545455634...|[0.00328252837061...|[needn, well, fir...|\n",
            "|    146249-A066|4|         003i mready|2m 41sec|     john lee hooker| the collection 2006| NaN|    Eng.|      [003i, mready]| [john, lee, hooker]|  [collection, 2006]| (52966,[22746,326...|  (33238,[2,18,381]...| (31172,[9,12],[0....|[0.05810257419943...|[-0.0084748230874...|[mready, 003i, ho...|\n",
            "|    160109-A070|4|    006 try acoustic| unknown|          neil young|2008 02 15 le gra...| NaN|    Eng.|[006, try, acoustic]|       [neil, young]|[2008, 02, 15, le...| (52966,[16,352,79...|  (33238,[57,100],[...| (31172,[1,17,140,...|[-0.0377143025398...|[0.00348395551554...|[try, acoustic, 0...|\n",
            "|  40248321MB-01|3|macabre discovery...|     0.8|        sylvain luux|                 NaN| NaN|Engl ish|[macabre, discove...|     [sylvain, luux]|               [nan]| (52966,[610,3459,...|  (33238,[2299,3098...|    (31172,[0],[1.0])|[0.03308545425534...|[0.01604699529707...|[macabre, distort...|\n",
            "|MBox17107012-HH|2|                 NaN|     159|                 NaN|how cool is that ...| NaN| English|               [nan]|               [nan]|[cool, christmas,...|  (52966,[115],[1.0])|     (33238,[0],[1.0])| (31172,[46,354,90...|[0.02401738986372...|[0.02401738986372...|[nan, rachael, ra...|\n",
            "|  47793212MB-01|3|just like tom thu...|     7.7|    wendy saddingotn|                 NaN| '07| English|[like, tom, thumb...| [wendy, saddingotn]|               [nan]| (52966,[3,11,15,5...|  (33238,[1196,2626...|    (31172,[0],[1.0])|[0.06535566598176...|[-0.0219345018267...|[blues, thumb, wo...|\n",
            "|   2914718MB-01|3|silent night jame...|   4.161|        james galway|                 NaN| '86| English|[silent, night, j...|     [james, galway]|               [nan]| (52966,[30,72,265...|  (33238,[11,7318],...|    (31172,[0],[1.0])|[0.02765228599309...|[-0.0119481999427...|[galway, carol, s...|\n",
            "|    126583-A062|4|023 el vaquero ch...| 2m 9sec|byron brizuela en...|      mexico unknown| NaN|    Eng.|[023, el, vaquero...|[byron, brizuela,...|   [mexico, unknown]| (52966,[491,628,7...|  (33238,[2106,2570...| (31172,[1,2615],[...|[0.05188263952732...|[-0.0505426526069...|[chido, vaquero, ...|\n",
            "|       12961428|5|       particle wave|  381000|            lunchbox|             evolver|2002| English|    [particle, wave]|          [lunchbox]|           [evolver]| (52966,[677,6626]...|  (33238,[7739],[1.0])| (31172,[10969],[1...|[0.01632212847471...|[-0.0149840600788...|[particle, wave, ...|\n",
            "|   1588093MB-01|3|        deja vu nice|   3.612|             blanket|                 NaN| '00| English|    [deja, vu, nice]|           [blanket]|               [nan]| (52966,[656,3168,...|  (33238,[6218],[1.0])|    (31172,[0],[1.0])|[0.07931265234947...|[-0.0290568266063...|[deja, vu, nice, ...|\n",
            "|        7237712|5|            bubbaloo|  286893|     glengarry bhoys|              rhoots|2003| English|          [bubbaloo]|  [glengarry, bhoys]|            [rhoots]| (52966,[17381],[1...|  (33238,[13283,135...| (31172,[10927],[1...|[0.03405719250440...|[0.03988662362098...|[bubbaloo, glenga...|\n",
            "|    WoM24638942|1|gimme dat remix r...|   04:23|             rye rye|         ryeot powrr|2011|     NaN|[gimme, dat, remi...|          [rye, rye]|      [ryeot, powrr]| (52966,[5,1698,30...|  (33238,[17957],[1...| (31172,[15809,263...|[0.01951571740210...|[0.06839617341756...|[ryeot, powrr, da...|\n",
            "|MBox30561822-HH|2|chris rea somewhe...|     399|                 NaN| santo spirito blues|  11| English|[chris, rea, some...|               [nan]|[santo, spirito, ...| (52966,[286,526,1...|     (33238,[0],[1.0])| (31172,[27,5028,9...|[-0.0331427305936...|[0.02401738986372...|[rea, somewhere, ...|\n",
            "|         547993|5|amneris intro eve...|  219546| gerard alessandrini|forbidden broadwa...|2001| English|[amneris, intro, ...|[gerard, alessand...|[forbidden, broad...| (52966,[0,36,177,...|  (33238,[2128,3886...| (31172,[28,51,215...|[-0.0365476384758...|[0.05103375390172...|[story, headley, ...|\n",
            "|MBox12885814-HH|2|   flunk blue monday|     255|                 NaN|for sleepyheads only|  02| English|[flunk, blue, mon...|               [nan]|       [sleepyheads]| (52966,[61,1429,2...|     (33238,[0],[1.0])| (31172,[9248],[1.0])|[-0.0163769237697...|[0.02401738986372...|[flunk, monday, b...|\n",
            "|    146325-A061|4|012 precious lord...| 3m24sec|     aretha franklin|suddeutsche zeitu...| NaN|    Eng.|[012, precious, l...|  [aretha, franklin]|[suddeutsche, zei...| (52966,[19,34,46,...|  (33238,[583,929],...| (31172,[15,20,110...|[0.04746994376182...|[0.00403845869004...|[precious, lord, ...|\n",
            "|    223393-A060|4|014 berlin bei ta...|3m 36sec|         chris prinz|club sounds volum...| NaN|    Eng.|[014, berlin, bei...|      [chris, prinz]|[club, sounds, vo...| (52966,[92,810,98...|  (33238,[28,3397],...| (31172,[1,2,71,13...|[2.32363949180580...|[-0.0437308587133...|[tag, nacht, bei,...|\n",
            "| MBox1859256-HH|2|the pentangle cuc...|     178|                 NaN|live at the bbc o...|  95| English|[pentangle, cucko...|               [nan]|    [live, bbc, air]| (52966,[35,6173,2...|     (33238,[0],[1.0])| (31172,[7,206,535...|[0.04357383400201...|[0.02401738986372...|[pentangle, cucko...|\n",
            "+-----------------+--------------------+--------+--------------------+--------------------+----+--------+--------------------+--------------------+--------------------+---------------------+----------------------+---------------------+--------------------+--------------------+--------------------+\n",
            "only showing top 20 rows\n",
            "\n"
          ]
        }
      ]
    },
    {
      "cell_type": "code",
      "source": [],
      "metadata": {
        "id": "jVpXj7TIW2xk"
      },
      "execution_count": 69,
      "outputs": []
    },
    {
      "cell_type": "code",
      "source": [
        "!curl -L -o \"/usr/local/lib/python3.10/dist-packages/pyspark/jars/graphframes-0.8.0-spark2.4-s_2.11.jar\" http://dl.bintray.com/spark-packages/maven/graphframes/graphframes/0.8.0-spark2.4-s_2.11/graphframes-0.8.0-spark2.4-s_2.11.jar\n"
      ],
      "metadata": {
        "colab": {
          "base_uri": "https://localhost:8080/"
        },
        "id": "zRFsyOyrWyQE",
        "outputId": "1b12bb37-ba4e-4944-ae98-040a59733130"
      },
      "execution_count": 71,
      "outputs": [
        {
          "output_type": "stream",
          "name": "stdout",
          "text": [
            "  % Total    % Received % Xferd  Average Speed   Time    Time     Time  Current\n",
            "                                 Dload  Upload   Total   Spent    Left  Speed\n",
            "100   164  100   164    0     0   1086      0 --:--:-- --:--:-- --:--:--  1093\n",
            "100   146  100   146    0     0    202      0 --:--:-- --:--:-- --:--:--   695\n"
          ]
        }
      ]
    },
    {
      "cell_type": "code",
      "source": [
        "g = GraphFrame(node, candidate_pairs)"
      ],
      "metadata": {
        "colab": {
          "base_uri": "https://localhost:8080/",
          "height": 654
        },
        "id": "fiMkdk7JTsbm",
        "outputId": "6933f1d3-7d1d-4fb5-ca56-3db1a20a9344"
      },
      "execution_count": 72,
      "outputs": [
        {
          "output_type": "stream",
          "name": "stderr",
          "text": [
            "/usr/local/lib/python3.10/dist-packages/pyspark/sql/dataframe.py:168: UserWarning: DataFrame.sql_ctx is an internal property, and will be removed in future releases. Use DataFrame.sparkSession instead.\n",
            "  warnings.warn(\n"
          ]
        },
        {
          "output_type": "error",
          "ename": "Py4JJavaError",
          "evalue": "An error occurred while calling o3329.loadClass.\n: java.lang.ClassNotFoundException: org.graphframes.GraphFramePythonAPI\n\tat java.base/java.net.URLClassLoader.findClass(URLClassLoader.java:476)\n\tat java.base/java.lang.ClassLoader.loadClass(ClassLoader.java:594)\n\tat java.base/java.lang.ClassLoader.loadClass(ClassLoader.java:527)\n\tat java.base/jdk.internal.reflect.NativeMethodAccessorImpl.invoke0(Native Method)\n\tat java.base/jdk.internal.reflect.NativeMethodAccessorImpl.invoke(NativeMethodAccessorImpl.java:62)\n\tat java.base/jdk.internal.reflect.DelegatingMethodAccessorImpl.invoke(DelegatingMethodAccessorImpl.java:43)\n\tat java.base/java.lang.reflect.Method.invoke(Method.java:566)\n\tat py4j.reflection.MethodInvoker.invoke(MethodInvoker.java:244)\n\tat py4j.reflection.ReflectionEngine.invoke(ReflectionEngine.java:374)\n\tat py4j.Gateway.invoke(Gateway.java:282)\n\tat py4j.commands.AbstractCommand.invokeMethod(AbstractCommand.java:132)\n\tat py4j.commands.CallCommand.execute(CallCommand.java:79)\n\tat py4j.ClientServerConnection.waitForCommands(ClientServerConnection.java:182)\n\tat py4j.ClientServerConnection.run(ClientServerConnection.java:106)\n\tat java.base/java.lang.Thread.run(Thread.java:829)\n",
          "traceback": [
            "\u001b[0;31m---------------------------------------------------------------------------\u001b[0m",
            "\u001b[0;31mPy4JJavaError\u001b[0m                             Traceback (most recent call last)",
            "\u001b[0;32m<ipython-input-72-88dcd315e1ab>\u001b[0m in \u001b[0;36m<cell line: 1>\u001b[0;34m()\u001b[0m\n\u001b[0;32m----> 1\u001b[0;31m \u001b[0mg\u001b[0m \u001b[0;34m=\u001b[0m \u001b[0mGraphFrame\u001b[0m\u001b[0;34m(\u001b[0m\u001b[0mnode\u001b[0m\u001b[0;34m,\u001b[0m \u001b[0mcandidate_pairs\u001b[0m\u001b[0;34m)\u001b[0m\u001b[0;34m\u001b[0m\u001b[0;34m\u001b[0m\u001b[0m\n\u001b[0m",
            "\u001b[0;32m/usr/local/lib/python3.10/dist-packages/graphframes/graphframe.py\u001b[0m in \u001b[0;36m__init__\u001b[0;34m(self, v, e)\u001b[0m\n\u001b[1;32m     63\u001b[0m         \u001b[0mself\u001b[0m\u001b[0;34m.\u001b[0m\u001b[0m_sqlContext\u001b[0m \u001b[0;34m=\u001b[0m \u001b[0mv\u001b[0m\u001b[0;34m.\u001b[0m\u001b[0msql_ctx\u001b[0m\u001b[0;34m\u001b[0m\u001b[0;34m\u001b[0m\u001b[0m\n\u001b[1;32m     64\u001b[0m         \u001b[0mself\u001b[0m\u001b[0;34m.\u001b[0m\u001b[0m_sc\u001b[0m \u001b[0;34m=\u001b[0m \u001b[0mself\u001b[0m\u001b[0;34m.\u001b[0m\u001b[0m_sqlContext\u001b[0m\u001b[0;34m.\u001b[0m\u001b[0m_sc\u001b[0m\u001b[0;34m\u001b[0m\u001b[0;34m\u001b[0m\u001b[0m\n\u001b[0;32m---> 65\u001b[0;31m         \u001b[0mself\u001b[0m\u001b[0;34m.\u001b[0m\u001b[0m_jvm_gf_api\u001b[0m \u001b[0;34m=\u001b[0m \u001b[0m_java_api\u001b[0m\u001b[0;34m(\u001b[0m\u001b[0mself\u001b[0m\u001b[0;34m.\u001b[0m\u001b[0m_sc\u001b[0m\u001b[0;34m)\u001b[0m\u001b[0;34m\u001b[0m\u001b[0;34m\u001b[0m\u001b[0m\n\u001b[0m\u001b[1;32m     66\u001b[0m \u001b[0;34m\u001b[0m\u001b[0m\n\u001b[1;32m     67\u001b[0m         \u001b[0mself\u001b[0m\u001b[0;34m.\u001b[0m\u001b[0mID\u001b[0m \u001b[0;34m=\u001b[0m \u001b[0mself\u001b[0m\u001b[0;34m.\u001b[0m\u001b[0m_jvm_gf_api\u001b[0m\u001b[0;34m.\u001b[0m\u001b[0mID\u001b[0m\u001b[0;34m(\u001b[0m\u001b[0;34m)\u001b[0m\u001b[0;34m\u001b[0m\u001b[0;34m\u001b[0m\u001b[0m\n",
            "\u001b[0;32m/usr/local/lib/python3.10/dist-packages/graphframes/graphframe.py\u001b[0m in \u001b[0;36m_java_api\u001b[0;34m(jsc)\u001b[0m\n\u001b[1;32m     36\u001b[0m \u001b[0;32mdef\u001b[0m \u001b[0m_java_api\u001b[0m\u001b[0;34m(\u001b[0m\u001b[0mjsc\u001b[0m\u001b[0;34m)\u001b[0m\u001b[0;34m:\u001b[0m\u001b[0;34m\u001b[0m\u001b[0;34m\u001b[0m\u001b[0m\n\u001b[1;32m     37\u001b[0m     \u001b[0mjavaClassName\u001b[0m \u001b[0;34m=\u001b[0m \u001b[0;34m\"org.graphframes.GraphFramePythonAPI\"\u001b[0m\u001b[0;34m\u001b[0m\u001b[0;34m\u001b[0m\u001b[0m\n\u001b[0;32m---> 38\u001b[0;31m     \u001b[0;32mreturn\u001b[0m \u001b[0mjsc\u001b[0m\u001b[0;34m.\u001b[0m\u001b[0m_jvm\u001b[0m\u001b[0;34m.\u001b[0m\u001b[0mThread\u001b[0m\u001b[0;34m.\u001b[0m\u001b[0mcurrentThread\u001b[0m\u001b[0;34m(\u001b[0m\u001b[0;34m)\u001b[0m\u001b[0;34m.\u001b[0m\u001b[0mgetContextClassLoader\u001b[0m\u001b[0;34m(\u001b[0m\u001b[0;34m)\u001b[0m\u001b[0;34m.\u001b[0m\u001b[0mloadClass\u001b[0m\u001b[0;34m(\u001b[0m\u001b[0mjavaClassName\u001b[0m\u001b[0;34m)\u001b[0m\u001b[0;31m \u001b[0m\u001b[0;31m\\\u001b[0m\u001b[0;34m\u001b[0m\u001b[0;34m\u001b[0m\u001b[0m\n\u001b[0m\u001b[1;32m     39\u001b[0m             \u001b[0;34m.\u001b[0m\u001b[0mnewInstance\u001b[0m\u001b[0;34m(\u001b[0m\u001b[0;34m)\u001b[0m\u001b[0;34m\u001b[0m\u001b[0;34m\u001b[0m\u001b[0m\n\u001b[1;32m     40\u001b[0m \u001b[0;34m\u001b[0m\u001b[0m\n",
            "\u001b[0;32m/usr/local/lib/python3.10/dist-packages/py4j/java_gateway.py\u001b[0m in \u001b[0;36m__call__\u001b[0;34m(self, *args)\u001b[0m\n\u001b[1;32m   1320\u001b[0m \u001b[0;34m\u001b[0m\u001b[0m\n\u001b[1;32m   1321\u001b[0m         \u001b[0manswer\u001b[0m \u001b[0;34m=\u001b[0m \u001b[0mself\u001b[0m\u001b[0;34m.\u001b[0m\u001b[0mgateway_client\u001b[0m\u001b[0;34m.\u001b[0m\u001b[0msend_command\u001b[0m\u001b[0;34m(\u001b[0m\u001b[0mcommand\u001b[0m\u001b[0;34m)\u001b[0m\u001b[0;34m\u001b[0m\u001b[0;34m\u001b[0m\u001b[0m\n\u001b[0;32m-> 1322\u001b[0;31m         return_value = get_return_value(\n\u001b[0m\u001b[1;32m   1323\u001b[0m             answer, self.gateway_client, self.target_id, self.name)\n\u001b[1;32m   1324\u001b[0m \u001b[0;34m\u001b[0m\u001b[0m\n",
            "\u001b[0;32m/usr/local/lib/python3.10/dist-packages/pyspark/errors/exceptions/captured.py\u001b[0m in \u001b[0;36mdeco\u001b[0;34m(*a, **kw)\u001b[0m\n\u001b[1;32m    177\u001b[0m     \u001b[0;32mdef\u001b[0m \u001b[0mdeco\u001b[0m\u001b[0;34m(\u001b[0m\u001b[0;34m*\u001b[0m\u001b[0ma\u001b[0m\u001b[0;34m:\u001b[0m \u001b[0mAny\u001b[0m\u001b[0;34m,\u001b[0m \u001b[0;34m**\u001b[0m\u001b[0mkw\u001b[0m\u001b[0;34m:\u001b[0m \u001b[0mAny\u001b[0m\u001b[0;34m)\u001b[0m \u001b[0;34m->\u001b[0m \u001b[0mAny\u001b[0m\u001b[0;34m:\u001b[0m\u001b[0;34m\u001b[0m\u001b[0;34m\u001b[0m\u001b[0m\n\u001b[1;32m    178\u001b[0m         \u001b[0;32mtry\u001b[0m\u001b[0;34m:\u001b[0m\u001b[0;34m\u001b[0m\u001b[0;34m\u001b[0m\u001b[0m\n\u001b[0;32m--> 179\u001b[0;31m             \u001b[0;32mreturn\u001b[0m \u001b[0mf\u001b[0m\u001b[0;34m(\u001b[0m\u001b[0;34m*\u001b[0m\u001b[0ma\u001b[0m\u001b[0;34m,\u001b[0m \u001b[0;34m**\u001b[0m\u001b[0mkw\u001b[0m\u001b[0;34m)\u001b[0m\u001b[0;34m\u001b[0m\u001b[0;34m\u001b[0m\u001b[0m\n\u001b[0m\u001b[1;32m    180\u001b[0m         \u001b[0;32mexcept\u001b[0m \u001b[0mPy4JJavaError\u001b[0m \u001b[0;32mas\u001b[0m \u001b[0me\u001b[0m\u001b[0;34m:\u001b[0m\u001b[0;34m\u001b[0m\u001b[0;34m\u001b[0m\u001b[0m\n\u001b[1;32m    181\u001b[0m             \u001b[0mconverted\u001b[0m \u001b[0;34m=\u001b[0m \u001b[0mconvert_exception\u001b[0m\u001b[0;34m(\u001b[0m\u001b[0me\u001b[0m\u001b[0;34m.\u001b[0m\u001b[0mjava_exception\u001b[0m\u001b[0;34m)\u001b[0m\u001b[0;34m\u001b[0m\u001b[0;34m\u001b[0m\u001b[0m\n",
            "\u001b[0;32m/usr/local/lib/python3.10/dist-packages/py4j/protocol.py\u001b[0m in \u001b[0;36mget_return_value\u001b[0;34m(answer, gateway_client, target_id, name)\u001b[0m\n\u001b[1;32m    324\u001b[0m             \u001b[0mvalue\u001b[0m \u001b[0;34m=\u001b[0m \u001b[0mOUTPUT_CONVERTER\u001b[0m\u001b[0;34m[\u001b[0m\u001b[0mtype\u001b[0m\u001b[0;34m]\u001b[0m\u001b[0;34m(\u001b[0m\u001b[0manswer\u001b[0m\u001b[0;34m[\u001b[0m\u001b[0;36m2\u001b[0m\u001b[0;34m:\u001b[0m\u001b[0;34m]\u001b[0m\u001b[0;34m,\u001b[0m \u001b[0mgateway_client\u001b[0m\u001b[0;34m)\u001b[0m\u001b[0;34m\u001b[0m\u001b[0;34m\u001b[0m\u001b[0m\n\u001b[1;32m    325\u001b[0m             \u001b[0;32mif\u001b[0m \u001b[0manswer\u001b[0m\u001b[0;34m[\u001b[0m\u001b[0;36m1\u001b[0m\u001b[0;34m]\u001b[0m \u001b[0;34m==\u001b[0m \u001b[0mREFERENCE_TYPE\u001b[0m\u001b[0;34m:\u001b[0m\u001b[0;34m\u001b[0m\u001b[0;34m\u001b[0m\u001b[0m\n\u001b[0;32m--> 326\u001b[0;31m                 raise Py4JJavaError(\n\u001b[0m\u001b[1;32m    327\u001b[0m                     \u001b[0;34m\"An error occurred while calling {0}{1}{2}.\\n\"\u001b[0m\u001b[0;34m.\u001b[0m\u001b[0;34m\u001b[0m\u001b[0;34m\u001b[0m\u001b[0m\n\u001b[1;32m    328\u001b[0m                     format(target_id, \".\", name), value)\n",
            "\u001b[0;31mPy4JJavaError\u001b[0m: An error occurred while calling o3329.loadClass.\n: java.lang.ClassNotFoundException: org.graphframes.GraphFramePythonAPI\n\tat java.base/java.net.URLClassLoader.findClass(URLClassLoader.java:476)\n\tat java.base/java.lang.ClassLoader.loadClass(ClassLoader.java:594)\n\tat java.base/java.lang.ClassLoader.loadClass(ClassLoader.java:527)\n\tat java.base/jdk.internal.reflect.NativeMethodAccessorImpl.invoke0(Native Method)\n\tat java.base/jdk.internal.reflect.NativeMethodAccessorImpl.invoke(NativeMethodAccessorImpl.java:62)\n\tat java.base/jdk.internal.reflect.DelegatingMethodAccessorImpl.invoke(DelegatingMethodAccessorImpl.java:43)\n\tat java.base/java.lang.reflect.Method.invoke(Method.java:566)\n\tat py4j.reflection.MethodInvoker.invoke(MethodInvoker.java:244)\n\tat py4j.reflection.ReflectionEngine.invoke(ReflectionEngine.java:374)\n\tat py4j.Gateway.invoke(Gateway.java:282)\n\tat py4j.commands.AbstractCommand.invokeMethod(AbstractCommand.java:132)\n\tat py4j.commands.CallCommand.execute(CallCommand.java:79)\n\tat py4j.ClientServerConnection.waitForCommands(ClientServerConnection.java:182)\n\tat py4j.ClientServerConnection.run(ClientServerConnection.java:106)\n\tat java.base/java.lang.Thread.run(Thread.java:829)\n"
          ]
        }
      ]
    },
    {
      "cell_type": "code",
      "source": [
        "@udf(\"double\")\n",
        "def dot(x, y):\n",
        "  if x is not None and y is not None:\n",
        "    return float(x.dot(y))\n",
        "  else:\n",
        "    return 0\n",
        "\n",
        "def null_safe_levenshtein_sim(c1, c2):\n",
        "  output = f.when(f.col(c1).isNull() | f.col(c2).isNull(), 0)\\\n",
        "            .otherwise(1 - f.levenshtein(c1, c2) / f.greatest(f.length(c1), f.length(c2)))\n",
        "  return output\n",
        "\n",
        "def null_safe_num_sim(c1, c2):\n",
        "  output = f.when(f.col(c1).isNull() | f.col(c2).isNull(), 0)\\\n",
        "            .when((f.col(c1) == 0) & (f.col(c2) == 0), 1)\\\n",
        "            .when((f.col(c1) == 0) | (f.col(c2) == 0), 0)\\\n",
        "            .otherwise(1 - f.abs(f.col(c1) - f.col(c2)) / f.greatest(c1, c2))\n",
        "  return output\n",
        "\n",
        "def null_safe_token_overlap(c1, c2):\n",
        "  # is the overlap a significant part of the shorter string\n",
        "  output = f.when(f.col(c1).isNull() | f.col(c2).isNull(), 0)\\\n",
        "            .when((f.size(f.array_distinct(c1)) == 0) | (f.size(f.array_distinct(c2)) == 0), 0)\\\n",
        "            .otherwise(f.size(f.array_intersect(c1, c2)) / f.least(f.size(f.array_distinct(c1)), f.size(f.array_distinct(c1))))\n",
        "  return output\n",
        "\n",
        "def calc_sim(df):\n",
        "  df = df.withColumn('title_lev', null_safe_levenshtein_sim('src.title', 'dst.title'))\\\n",
        "      .withColumn('artist_lev', null_safe_levenshtein_sim('src.artist', 'dst.artist'))\\\n",
        "      .withColumn('album_lev', null_safe_levenshtein_sim('src.album', 'dst.album'))\\\n",
        "      .withColumn('title_token_sim', null_safe_token_overlap('src.title_swRemoved', 'dst.title_swRemoved'))\\\n",
        "      .withColumn('artist_token_sim', null_safe_token_overlap('src.artist_swRemoved', 'dst.artist_swRemoved'))\\\n",
        "      .withColumn('album_token_sim', null_safe_token_overlap('src.album_swRemoved', 'dst.album_swRemoved'))\\\n",
        "      .withColumn('year_sim', null_safe_num_sim('src.year', 'dst.year'))\\\n",
        "      .withColumn('title_tfidf_sim', dot(f.col('src.title_swRemoved_tfidf'), f.col('dst.title_swRemoved_tfidf')))\\\n",
        "      .withColumn('description_tfidf_sim', dot(f.col('src.description_swRemoved_tfidf'), f.col('dst.description_swRemoved_tfidf')))\\\n",
        "      .withColumn('artist_tfidf_sim', dot(f.col('src.artist_swRemoved_tfidf'), f.col('dst.artist_swRemoved_tfidf')))\\\n",
        "      .withColumn('title_encoding_sim', dot(f.col('src.title_encoding'), f.col('dst.title_encoding')))\\\n",
        "      .withColumn('album_encoding_sim', dot(f.col('src.album_encoding'), f.col('dst.album_encoding')))\n",
        "\n",
        "  metrics = ['artist_lev', 'album_lev', 'title_lev', 'year_sim', 'title_tfidf_sim', 'description_tfidf_sim',\n",
        "             'artist_tfidf_sim', 'title_encoding_sim', 'album_encoding_sim',\n",
        "             'title_token_sim', 'artistr_token_sim', 'album_token_sim'\n",
        "            ]\n",
        "\n",
        "  df = df.withColumn('overall_sim', reduce(add, [f.col(c) for c in metrics]) / len(metrics))\n",
        "  return df\n",
        "\n",
        "\n",
        "distance_df = calc_sim(g.triplets)\n",
        "\n",
        "distance_df.write.mode('overwrite').parquet(\"YOUR_STORAGE_PATH/amazon_google_distance.parquet\")"
      ],
      "metadata": {
        "colab": {
          "base_uri": "https://localhost:8080/",
          "height": 245
        },
        "id": "SRB9ppKvPrY0",
        "outputId": "42fd8d18-1cb5-4731-cd7b-faa2b840f6c1"
      },
      "execution_count": 62,
      "outputs": [
        {
          "output_type": "error",
          "ename": "NameError",
          "evalue": "name 'g' is not defined",
          "traceback": [
            "\u001b[0;31m---------------------------------------------------------------------------\u001b[0m",
            "\u001b[0;31mNameError\u001b[0m                                 Traceback (most recent call last)",
            "\u001b[0;32m<ipython-input-62-49a6d2f41fbe>\u001b[0m in \u001b[0;36m<cell line: 50>\u001b[0;34m()\u001b[0m\n\u001b[1;32m     48\u001b[0m \u001b[0;34m\u001b[0m\u001b[0m\n\u001b[1;32m     49\u001b[0m \u001b[0;34m\u001b[0m\u001b[0m\n\u001b[0;32m---> 50\u001b[0;31m \u001b[0mdistance_df\u001b[0m \u001b[0;34m=\u001b[0m \u001b[0mcalc_sim\u001b[0m\u001b[0;34m(\u001b[0m\u001b[0mg\u001b[0m\u001b[0;34m.\u001b[0m\u001b[0mtriplets\u001b[0m\u001b[0;34m)\u001b[0m\u001b[0;34m\u001b[0m\u001b[0;34m\u001b[0m\u001b[0m\n\u001b[0m\u001b[1;32m     51\u001b[0m \u001b[0;34m\u001b[0m\u001b[0m\n\u001b[1;32m     52\u001b[0m \u001b[0mdistance_df\u001b[0m\u001b[0;34m.\u001b[0m\u001b[0mwrite\u001b[0m\u001b[0;34m.\u001b[0m\u001b[0mmode\u001b[0m\u001b[0;34m(\u001b[0m\u001b[0;34m'overwrite'\u001b[0m\u001b[0;34m)\u001b[0m\u001b[0;34m.\u001b[0m\u001b[0mparquet\u001b[0m\u001b[0;34m(\u001b[0m\u001b[0;34m\"YOUR_STORAGE_PATH/amazon_google_distance.parquet\"\u001b[0m\u001b[0;34m)\u001b[0m\u001b[0;34m\u001b[0m\u001b[0;34m\u001b[0m\u001b[0m\n",
            "\u001b[0;31mNameError\u001b[0m: name 'g' is not defined"
          ]
        }
      ]
    },
    {
      "cell_type": "markdown",
      "source": [
        "#### The next step after candidate pair generation, is to score the candidate pair match likelihood. This is crucial to removing non-matches and creating the final resolved entities."
      ],
      "metadata": {
        "id": "1YLGIu-kRPb6"
      }
    },
    {
      "cell_type": "code",
      "source": [],
      "metadata": {
        "id": "mMaDU-bIROiE"
      },
      "execution_count": null,
      "outputs": []
    },
    {
      "cell_type": "code",
      "source": [],
      "metadata": {
        "id": "f8poxK7PK5UX"
      },
      "execution_count": null,
      "outputs": []
    }
  ]
}